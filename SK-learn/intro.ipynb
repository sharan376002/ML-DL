{
 "cells": [
  {
   "cell_type": "code",
   "execution_count": null,
   "id": "02cf2bed",
   "metadata": {},
   "outputs": [],
   "source": [
    "# handling the imblanced dataset\n",
    "import pandas as pd\n",
    "import numpy as np\n",
    "from sklearn.datasets import load_breast_cancer\n",
    "\n",
    "# Load the dataset\n",
    "data = load_breast_cancer()\n",
    "df = pd.DataFrame(data.data, columns=data.feature_names)\n",
    "df['target'] = data.target\n",
    "\n",
    "\n",
    "# hndle the imbalanced dataset\n",
    "# under sampling    \n",
    "from imblearn.under_sampling import RandomUnderSampler  \n",
    "X = df.drop('target', axis=1)\n",
    "y = df['target']    \n",
    "X_res, y_res = RandomUnderSampler().fit_resample(X, y)\n",
    "\n",
    "# it oversample the minority class it produces duplicate samples\n",
    "from imblearn.over_sampling import RandomOverSampler\n",
    "y = df['target']\n",
    "X = df.drop('target', axis=1)\n",
    "X_res, y_res = RandomOverSampler().fit_resample(X, y)"
   ]
  },
  {
   "cell_type": "code",
   "execution_count": 16,
   "id": "02e8cfa0",
   "metadata": {},
   "outputs": [
    {
     "name": "stdout",
     "output_type": "stream",
     "text": [
      "x_train: 17     0.070769\n",
      "66    -0.009147\n",
      "137    0.005383\n",
      "245   -0.027310\n",
      "31    -0.023677\n",
      "         ...   \n",
      "106   -0.096328\n",
      "270    0.005383\n",
      "348    0.030811\n",
      "435   -0.012780\n",
      "102   -0.092695\n",
      "Name: age, Length: 353, dtype: float64\n",
      "x_test: 287    0.045341\n",
      "211    0.092564\n",
      "72     0.063504\n",
      "321    0.096197\n",
      "73     0.012648\n",
      "         ...   \n",
      "255    0.001751\n",
      "90     0.012648\n",
      "57    -0.027310\n",
      "391   -0.023677\n",
      "24    -0.063635\n",
      "Name: age, Length: 89, dtype: float64\n"
     ]
    }
   ],
   "source": [
    "# train test split\n",
    "from sklearn.datasets import load_diabetes\n",
    "from sklearn.model_selection import train_test_split\n",
    "\n",
    "\n",
    "dia = load_diabetes()\n",
    "df = pd.DataFrame(dia.data, columns=dia.feature_names)\n",
    "df\n",
    "x = df['age']\n",
    "y = df['bmi']\n",
    "\n",
    "x_train, x_test, y_train, y_test = train_test_split(x, y, test_size=0.2, random_state=42)\n",
    "\n",
    "print(\"x_train:\", x_train)\n",
    "print(\"x_test:\", x_test)        \n"
   ]
  },
  {
   "cell_type": "code",
   "execution_count": null,
   "id": "6385196c",
   "metadata": {},
   "outputs": [
    {
     "name": "stdout",
     "output_type": "stream",
     "text": [
      "0      0.038076\n",
      "1     -0.001882\n",
      "2      0.085299\n",
      "3     -0.089063\n",
      "4      0.005383\n",
      "         ...   \n",
      "437    0.041708\n",
      "438   -0.005515\n",
      "439    0.041708\n",
      "440   -0.045472\n",
      "441   -0.045472\n",
      "Name: age, Length: 442, dtype: float64\n"
     ]
    }
   ],
   "source": [
    "# tfidf\n",
    "from sklearn.feature_extraction.text import TfidfVectorizer \n",
    "# feature extraction\n",
    "# it map the text to a vector space is called feature extraction\n",
    "# it convert the text to a vector space\n",
    "# it is used to convert the text to a vector space  \n",
    "corpus = [\n",
    "    'This is the first document.',\n",
    "    'This document is the second document.',\n",
    "    'And this is the third one.',\n",
    "    'Is this the first document?'\n",
    "]   \n",
    "\n",
    "vectorizer = TfidfVectorizer()\n",
    "X = vectorizer.fit_transform(corpus)\n",
    "print(x)\n",
    "\n",
    "\n"
   ]
  },
  {
   "cell_type": "code",
   "execution_count": null,
   "id": "01e5aed1",
   "metadata": {},
   "outputs": [],
   "source": []
  }
 ],
 "metadata": {
  "kernelspec": {
   "display_name": "base",
   "language": "python",
   "name": "python3"
  },
  "language_info": {
   "codemirror_mode": {
    "name": "ipython",
    "version": 3
   },
   "file_extension": ".py",
   "mimetype": "text/x-python",
   "name": "python",
   "nbconvert_exporter": "python",
   "pygments_lexer": "ipython3",
   "version": "3.12.4"
  }
 },
 "nbformat": 4,
 "nbformat_minor": 5
}
