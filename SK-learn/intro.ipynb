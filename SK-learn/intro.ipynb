{
 "cells": [
  {
   "cell_type": "code",
   "execution_count": null,
   "id": "02cf2bed",
   "metadata": {},
   "outputs": [],
   "source": [
    "# handling the imblanced dataset\n",
    "import pandas as pd\n",
    "import numpy as np\n",
    "from sklearn.datasets import load_breast_cancer\n",
    "\n",
    "# Load the dataset\n",
    "data = load_breast_cancer()\n",
    "df = pd.DataFrame(data.data, columns=data.feature_names)\n",
    "df['target'] = data.target\n",
    "\n",
    "\n",
    "# hndle the imbalanced dataset\n",
    "# under sampling    \n",
    "from imblearn.under_sampling import RandomUnderSampler  \n",
    "X = df.drop('target', axis=1)\n",
    "y = df['target']    \n",
    "X_res, y_res = RandomUnderSampler().fit_resample(X, y)\n",
    "\n",
    "# it oversample the minority class it produces duplicate samples\n",
    "from imblearn.over_sampling import RandomOverSampler\n",
    "y = df['target']\n",
    "X = df.drop('target', axis=1)\n",
    "X_res, y_res = RandomOverSampler().fit_resample(X, y)"
   ]
  },
  {
   "cell_type": "code",
   "execution_count": null,
   "id": "02e8cfa0",
   "metadata": {},
   "outputs": [],
   "source": []
  }
 ],
 "metadata": {
  "kernelspec": {
   "display_name": "base",
   "language": "python",
   "name": "python3"
  },
  "language_info": {
   "codemirror_mode": {
    "name": "ipython",
    "version": 3
   },
   "file_extension": ".py",
   "mimetype": "text/x-python",
   "name": "python",
   "nbconvert_exporter": "python",
   "pygments_lexer": "ipython3",
   "version": "3.12.4"
  }
 },
 "nbformat": 4,
 "nbformat_minor": 5
}
