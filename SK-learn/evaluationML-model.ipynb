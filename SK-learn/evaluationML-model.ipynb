{
 "cells": [
  {
   "cell_type": "code",
   "execution_count": null,
   "id": "dfe3f9e5",
   "metadata": {},
   "outputs": [],
   "source": [
    "#evalution metrics of the ml model\n",
    "# to find the evaluation metrics for a given model\n",
    "# evaluation metrics = (predicted - actual)^2\n",
    "\n",
    "# classification rpoblems\n",
    "# Accuracy score is used\n",
    "\n",
    "# regression problems\n",
    "# Mean Squared Error (MSE) is used\n",
    "\n",
    "from sklearn.metrics import mean_squared_error\n",
    "from sklearn.metrics import mean_absolute_error\n",
    "\n",
    "from sklearn.metrics import accuracy_score, precision_score, recall_score, f1_score"
   ]
  }
 ],
 "metadata": {
  "language_info": {
   "name": "python"
  }
 },
 "nbformat": 4,
 "nbformat_minor": 5
}
