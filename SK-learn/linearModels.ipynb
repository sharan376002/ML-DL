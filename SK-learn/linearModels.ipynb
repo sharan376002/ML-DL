{
 "cells": [
  {
   "cell_type": "code",
   "execution_count": null,
   "id": "2680c889",
   "metadata": {},
   "outputs": [],
   "source": [
    "# losss function\n",
    "# to find the loss function for a given model\n",
    "# loss function  = (predicted - actual)^2\n",
    "\n",
    "\n",
    "\n",
    "# building a linear regresssion model from scratch\n"
   ]
  },
  {
   "cell_type": "markdown",
   "id": "5f13b73c",
   "metadata": {},
   "source": [
    "Linear regression\n",
    "\n",
    " Y  = WX + B\n",
    "\n",
    "\n",
    "\n",
    "linear regression \n",
    "\n",
    "Y = W*x + B\n",
    "\n",
    "y: Predicted value\n",
    "\n",
    "\n",
    "x: Input (feature)\n",
    "\n",
    "\n",
    "w: Weight (slope)\n",
    "\n",
    "\n",
    "b: Bias/intercept\n",
    "\n",
    "#Gradient Descent\n",
    "Gradient Descent is an optimization algorithm used to minimize a cost/loss function by iteratively moving in the direction of the steepest descent (negative gradient).\n",
    "\n",
    "w:=w−η⋅ \n",
    "∂w\n",
    "∂L\n",
    "​\n",
    " ,b:=b−η⋅ \n",
    "∂b\n",
    "∂L\n",
    "​\n"
   ]
  },
  {
   "cell_type": "markdown",
   "id": "800cf4f0",
   "metadata": {},
   "source": []
  },
  {
   "cell_type": "code",
   "execution_count": null,
   "id": "e91ff647",
   "metadata": {},
   "outputs": [],
   "source": [
    "import numpy as np\n",
    "\n",
    "class LinearRegression:\n",
    "    def __init__(self,  learning_rate, n_iterations):\n",
    "        \n",
    "        self.learning_rate = learning_rate\n",
    "        self.n_iterations = n_iterations\n",
    "\n",
    "    def fit(self, x,y):\n",
    "        \n",
    "        # no of features(n) and no of samples(m)\n",
    "        self.m, self.n  = x.shape\n",
    "\n",
    "        # initializing weights and bias\n",
    "        self.weights = np.zeros(self.n)\n",
    "        self.bias  = 0\n",
    "\n",
    "        self.x  = x\n",
    "        self.y = y\n",
    "\n",
    "        for i in range(self.n_iterations):\n",
    "            self.update_weights()\n",
    "\n",
    "\n",
    "\n",
    "\n",
    "    \n",
    "    def update_weights(self):\n",
    "        y_prediction = self.prediction(self.x)\n",
    "        # calculating gradients\n",
    "        dw = (-2/self.m) * np.dot(self.x.T,(self.y - y_prediction))\n",
    "        db = (-2/self.m) * np.sum(self.Y,(self.y - y_prediction))\n",
    "    \n",
    "\n",
    "\n",
    "    def predict(self, x):\n",
    "        \n",
    "        return np.dot(x,self.weights) + self.bias\n",
    "\n"
   ]
  },
  {
   "cell_type": "code",
   "execution_count": null,
   "id": "3e0d7e5d",
   "metadata": {},
   "outputs": [],
   "source": [
    "#"
   ]
  }
 ],
 "metadata": {
  "kernelspec": {
   "display_name": "base",
   "language": "python",
   "name": "python3"
  },
  "language_info": {
   "codemirror_mode": {
    "name": "ipython",
    "version": 3
   },
   "file_extension": ".py",
   "mimetype": "text/x-python",
   "name": "python",
   "nbconvert_exporter": "python",
   "pygments_lexer": "ipython3",
   "version": "3.12.4"
  }
 },
 "nbformat": 4,
 "nbformat_minor": 5
}
